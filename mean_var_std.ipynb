{
 "cells": [
  {
   "cell_type": "code",
   "execution_count": 65,
   "id": "d854ad8e-6ca3-475d-8fea-743828468215",
   "metadata": {},
   "outputs": [],
   "source": [
    "import numpy as np"
   ]
  },
  {
   "cell_type": "code",
   "execution_count": 66,
   "id": "69f80fed-5e06-467e-961b-06db90c2c433",
   "metadata": {},
   "outputs": [
    {
     "data": {
      "text/plain": [
       "[0, 1, 2, 3, 4, 5, 6, 7]"
      ]
     },
     "execution_count": 66,
     "metadata": {},
     "output_type": "execute_result"
    }
   ],
   "source": [
    "list = [0,1,2,3,4,5,6,7]\n",
    "list"
   ]
  },
  {
   "cell_type": "code",
   "execution_count": 67,
   "id": "d4287bf9-f3d0-478a-a274-b7fc21bc8f99",
   "metadata": {},
   "outputs": [],
   "source": [
    "length = len(list)"
   ]
  },
  {
   "cell_type": "code",
   "execution_count": 69,
   "id": "3066ec66-beac-4122-8334-8799903ed0d0",
   "metadata": {},
   "outputs": [
    {
     "data": {
      "text/plain": [
       "False"
      ]
     },
     "execution_count": 69,
     "metadata": {},
     "output_type": "execute_result"
    }
   ],
   "source": [
    "length == 9"
   ]
  },
  {
   "cell_type": "code",
   "execution_count": 70,
   "id": "9304c3e2-5473-40a5-aa24-6d143e8cbba1",
   "metadata": {},
   "outputs": [],
   "source": [
    "try:\n",
    "    if (length == 9): # Following use of reshape needs length of exact 9 numbers\n",
    "        array = np.asarray(list)\n",
    "except:\n",
    "    print(\"List must contain nine numbers.\")"
   ]
  },
  {
   "cell_type": "code",
   "execution_count": 71,
   "id": "d4621f8c-624e-413e-a7dc-cfff3ccac71c",
   "metadata": {},
   "outputs": [
    {
     "data": {
      "text/plain": [
       "array([0, 1, 2, 3, 4, 5, 6, 7, 8])"
      ]
     },
     "execution_count": 71,
     "metadata": {},
     "output_type": "execute_result"
    }
   ],
   "source": [
    "array"
   ]
  },
  {
   "cell_type": "code",
   "execution_count": 72,
   "id": "365ede42-70e9-4362-af60-21a72cff44c4",
   "metadata": {},
   "outputs": [
    {
     "data": {
      "text/plain": [
       "array([[0, 1, 2],\n",
       "       [3, 4, 5],\n",
       "       [6, 7, 8]])"
      ]
     },
     "execution_count": 72,
     "metadata": {},
     "output_type": "execute_result"
    }
   ],
   "source": [
    "mat = np.reshape(array, (3,3))\n",
    "mat"
   ]
  },
  {
   "cell_type": "code",
   "execution_count": 73,
   "id": "b4a4f499-afca-4f42-9bb2-813297e0463c",
   "metadata": {},
   "outputs": [
    {
     "ename": "SyntaxError",
     "evalue": "illegal target for annotation (4035288433.py, line 1)",
     "output_type": "error",
     "traceback": [
      "\u001b[0;36m  File \u001b[0;32m\"/tmp/ipykernel_12834/4035288433.py\"\u001b[0;36m, line \u001b[0;32m1\u001b[0m\n\u001b[0;31m    'mean': [axis1, axis2, flattened],\u001b[0m\n\u001b[0m    ^\u001b[0m\n\u001b[0;31mSyntaxError\u001b[0m\u001b[0;31m:\u001b[0m illegal target for annotation\n"
     ]
    }
   ],
   "source": [
    "'mean': [axis1, axis2, flattened],\n",
    "  'variance': [axis1, axis2, flattened],\n",
    "  'standard deviation': [axis1, axis2, flattened],\n",
    "  'max': [axis1, axis2, flattened],\n",
    "  'min': [axis1, axis2, flattened],\n",
    "  'sum': [axis1, axis2, flattened]"
   ]
  },
  {
   "cell_type": "code",
   "execution_count": 74,
   "id": "132901e6-bc23-45de-9fa9-793f3237518f",
   "metadata": {},
   "outputs": [
    {
     "name": "stdout",
     "output_type": "stream",
     "text": [
      "[3. 4. 5.] [1. 4. 7.] 4.0\n"
     ]
    }
   ],
   "source": [
    "meanax1 = np.mean(mat, axis=0)\n",
    "meanax2 = np.mean(mat, axis=1)\n",
    "meanfl = np.mean(mat)\n",
    "print(meanax1, meanax2, meanfl)"
   ]
  },
  {
   "cell_type": "code",
   "execution_count": 75,
   "id": "30359e61-0821-42b0-833d-c1defdec492c",
   "metadata": {},
   "outputs": [
    {
     "name": "stdout",
     "output_type": "stream",
     "text": [
      "[6. 6. 6.] [0.66666667 0.66666667 0.66666667] 6.666666666666667\n"
     ]
    }
   ],
   "source": [
    "varax1 = np.var(mat, axis=0)\n",
    "varax2 = np.var(mat, axis=1)\n",
    "varfl = np.var(mat)\n",
    "print(varax1, varax2, varfl)"
   ]
  },
  {
   "cell_type": "code",
   "execution_count": 76,
   "id": "f073fb11-9cd7-4c2c-becf-b138f11a7c91",
   "metadata": {},
   "outputs": [
    {
     "name": "stdout",
     "output_type": "stream",
     "text": [
      "[2.44948974 2.44948974 2.44948974] [0.81649658 0.81649658 0.81649658] 2.581988897471611\n"
     ]
    }
   ],
   "source": [
    "stdax1 = np.std(mat, axis=0)\n",
    "stdax2 = np.std(mat, axis=1)\n",
    "stdfl = np.std(mat)\n",
    "print(stdax1, stdax2, stdfl)"
   ]
  },
  {
   "cell_type": "code",
   "execution_count": 77,
   "id": "e42ddce7-f74a-4cfb-9590-f0c62bf3767f",
   "metadata": {},
   "outputs": [
    {
     "name": "stdout",
     "output_type": "stream",
     "text": [
      "[6 7 8] [2 5 8] 8\n"
     ]
    }
   ],
   "source": [
    "maxax1 = np.max(mat, axis=0)\n",
    "maxax2 = np.max(mat, axis=1)\n",
    "maxfl = np.max(mat)\n",
    "print(maxax1, maxax2, maxfl)"
   ]
  },
  {
   "cell_type": "code",
   "execution_count": 78,
   "id": "e35d3361-3901-4535-b4a9-54f2a223dec6",
   "metadata": {},
   "outputs": [
    {
     "name": "stdout",
     "output_type": "stream",
     "text": [
      "[0 1 2] [0 3 6] 0\n"
     ]
    }
   ],
   "source": [
    "minax1 = np.min(mat, axis=0)\n",
    "minax2 = np.min(mat, axis=1)\n",
    "minfl = np.min(mat)\n",
    "print(minax1, minax2, minfl)"
   ]
  },
  {
   "cell_type": "code",
   "execution_count": 79,
   "id": "c99bfa33-f3e4-4bc7-ab90-69d80d9cfadf",
   "metadata": {},
   "outputs": [
    {
     "name": "stdout",
     "output_type": "stream",
     "text": [
      "[ 9 12 15] [ 3 12 21] 36\n"
     ]
    }
   ],
   "source": [
    "sumax1 = np.sum(mat, axis=0)\n",
    "sumax2 = np.sum(mat, axis=1)\n",
    "sumfl = np.sum(mat)\n",
    "print(sumax1, sumax2, sumfl)"
   ]
  },
  {
   "cell_type": "code",
   "execution_count": 80,
   "id": "95fcc88a-26e8-4a7e-9069-30a360cbdc6b",
   "metadata": {},
   "outputs": [
    {
     "data": {
      "text/plain": [
       "[9, 12, 15]"
      ]
     },
     "execution_count": 80,
     "metadata": {},
     "output_type": "execute_result"
    }
   ],
   "source": [
    "sumax1.tolist()"
   ]
  },
  {
   "cell_type": "code",
   "execution_count": 88,
   "id": "cb3d08d2-af4b-4745-81f0-bba7dab32ecf",
   "metadata": {},
   "outputs": [],
   "source": [
    "meanax1 = np.mean(mat, axis=0).tolist()\n",
    "meanax2 = np.mean(mat, axis=1).tolist()\n",
    "meanfl = np.mean(mat).tolist()\n",
    "\n",
    "varax1 = np.var(mat, axis=0).tolist()\n",
    "varax2 = np.var(mat, axis=1).tolist()\n",
    "varfl = np.var(mat).tolist()\n",
    "    \n",
    "stdax1 = np.std(mat, axis=0).tolist()\n",
    "stdax2 = np.std(mat, axis=1).tolist()\n",
    "stdfl = np.std(mat).tolist()\n",
    "    \n",
    "maxax1 = np.max(mat, axis=0).tolist()\n",
    "maxax2 = np.max(mat, axis=1).tolist()\n",
    "maxfl = np.max(mat).tolist()\n",
    "    \n",
    "minax1 = np.min(mat, axis=0).tolist()\n",
    "minax2 = np.min(mat, axis=1).tolist()\n",
    "minfl = np.min(mat).tolist()\n",
    "    \n",
    "sumax1 = np.sum(mat, axis=0).tolist()\n",
    "sumax2 = np.sum(mat, axis=1).tolist()\n",
    "sumfl = np.sum(mat).tolist()"
   ]
  },
  {
   "cell_type": "code",
   "execution_count": 82,
   "id": "c4bd9c09-0778-4a56-8e1f-d19678f5dbaa",
   "metadata": {},
   "outputs": [
    {
     "data": {
      "text/plain": [
       "{'mean': [[3.0, 4.0, 5.0], [1.0, 4.0, 7.0], 4.0],\n",
       " 'variance': [[6.0, 6.0, 6.0],\n",
       "  [0.6666666666666666, 0.6666666666666666, 0.6666666666666666],\n",
       "  6.666666666666667],\n",
       " 'standard deviation': [[2.449489742783178,\n",
       "   2.449489742783178,\n",
       "   2.449489742783178],\n",
       "  [0.816496580927726, 0.816496580927726, 0.816496580927726],\n",
       "  2.581988897471611],\n",
       " 'max': [[6, 7, 8], [2, 5, 8], 8],\n",
       " 'min': [[0, 1, 2], [0, 3, 6], 0],\n",
       " 'sum': [[9, 12, 15], [3, 12, 21], 36]}"
      ]
     },
     "execution_count": 82,
     "metadata": {},
     "output_type": "execute_result"
    }
   ],
   "source": [
    "calculations = {\n",
    "      'mean': [meanax1, meanax2, meanfl],\n",
    "      'variance': [varax1, varax2, varfl],\n",
    "      'standard deviation': [stdax1, stdax2, stdfl],\n",
    "      'max': [maxax1, maxax2, maxfl],\n",
    "      'min': [minax1, minax2, minfl],\n",
    "      'sum': [sumax1, sumax2, sumfl]\n",
    "}\n",
    "calculations"
   ]
  },
  {
   "cell_type": "code",
   "execution_count": 89,
   "id": "5d9ad5e9-b533-4787-b64f-73cda78240eb",
   "metadata": {},
   "outputs": [
    {
     "data": {
      "text/plain": [
       "numpy.int64"
      ]
     },
     "execution_count": 89,
     "metadata": {},
     "output_type": "execute_result"
    }
   ],
   "source": [
    "type(sumfl)"
   ]
  },
  {
   "cell_type": "code",
   "execution_count": 1,
   "id": "0d6b2091-7245-4b68-90ba-d874a040b8d0",
   "metadata": {},
   "outputs": [
    {
     "name": "stderr",
     "output_type": "stream",
     "text": [
      "...\n",
      "----------------------------------------------------------------------\n",
      "Ran 3 tests in 0.006s\n",
      "\n",
      "OK\n"
     ]
    },
    {
     "name": "stdout",
     "output_type": "stream",
     "text": [
      "{'mean': [[3.0, 4.0, 5.0], [1.0, 4.0, 7.0], 4.0], 'variance': [[6.0, 6.0, 6.0], [0.6666666666666666, 0.6666666666666666, 0.6666666666666666], 6.666666666666667], 'standard deviation': [[2.449489742783178, 2.449489742783178, 2.449489742783178], [0.816496580927726, 0.816496580927726, 0.816496580927726], 2.581988897471611], 'max': [[6, 7, 8], [2, 5, 8], 8], 'min': [[0, 1, 2], [0, 3, 6], 0], 'sum': [[9, 12, 15], [3, 12, 21], 36]}\n"
     ]
    }
   ],
   "source": [
    "%run main.py"
   ]
  },
  {
   "cell_type": "code",
   "execution_count": null,
   "id": "0cd8035d-eb8e-40f1-9026-c68f1b93506c",
   "metadata": {},
   "outputs": [],
   "source": []
  }
 ],
 "metadata": {
  "kernelspec": {
   "display_name": "Python 3 (ipykernel)",
   "language": "python",
   "name": "python3"
  },
  "language_info": {
   "codemirror_mode": {
    "name": "ipython",
    "version": 3
   },
   "file_extension": ".py",
   "mimetype": "text/x-python",
   "name": "python",
   "nbconvert_exporter": "python",
   "pygments_lexer": "ipython3",
   "version": "3.10.12"
  }
 },
 "nbformat": 4,
 "nbformat_minor": 5
}
